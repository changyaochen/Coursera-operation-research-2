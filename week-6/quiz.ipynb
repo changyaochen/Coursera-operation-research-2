{
 "cells": [
  {
   "cell_type": "markdown",
   "id": "fcd38403",
   "metadata": {
    "toc": true
   },
   "source": [
    "<h1>Table of Contents<span class=\"tocSkip\"></span></h1>\n",
    "<div class=\"toc\"><ul class=\"toc-item\"><li><span><a href=\"#Problem-1\" data-toc-modified-id=\"Problem-1-1\">Problem 1</a></span></li><li><span><a href=\"#Problem-2\" data-toc-modified-id=\"Problem-2-2\">Problem 2</a></span></li></ul></div>"
   ]
  },
  {
   "cell_type": "code",
   "execution_count": 3,
   "id": "18ae492b",
   "metadata": {
    "ExecuteTime": {
     "end_time": "2021-12-28T13:37:01.618591Z",
     "start_time": "2021-12-28T13:37:01.615510Z"
    }
   },
   "outputs": [],
   "source": [
    "import pulp as pl\n",
    "\n",
    "from pulp import LpProblem\n",
    "from pulp import lpSum\n",
    "from pulp import LpVariable"
   ]
  },
  {
   "cell_type": "markdown",
   "id": "0a460a6d",
   "metadata": {},
   "source": [
    "## Problem 1"
   ]
  },
  {
   "cell_type": "code",
   "execution_count": 20,
   "id": "ee7250c7",
   "metadata": {
    "ExecuteTime": {
     "end_time": "2021-12-29T01:01:21.505122Z",
     "start_time": "2021-12-29T01:01:21.421759Z"
    }
   },
   "outputs": [
    {
     "name": "stdout",
     "output_type": "stream",
     "text": [
      "43.0\n"
     ]
    }
   ],
   "source": [
    "model_1 = LpProblem(name=\"problem-1\", sense=pl.LpMinimize)\n",
    "\n",
    "# Decision variables\n",
    "variables = {}\n",
    "for i in range(1, 16):\n",
    "    for j in range(1, 4):\n",
    "        variables[f\"x_{i}_{j}\"] = LpVariable(name=f\"x_{i}_{j}\", cat=\"Binary\")\n",
    "z = LpVariable(name=\"max_makespan\", lowBound=0)\n",
    "\n",
    "# Objective function\n",
    "model_1 += z\n",
    "\n",
    "# Constraints\n",
    "# any job is only on one machine\n",
    "for i in range(1, 16):\n",
    "    model_1 += (\n",
    "        lpSum([variables[f\"x_{i}_{j}\"] for j in range(1, 4)]) == 1, \n",
    "        f\"job_{i}_on_one_machine\",\n",
    "    )\n",
    "\n",
    "# max makespan\n",
    "processing_times = [7, 4, 6, 9, 12, 8, 10, 11, 8, 7, 6, 8, 15, 14, 3]\n",
    "for j in range(1, 4):\n",
    "    model_1 += (\n",
    "        z >= lpSum([processing_times[i] * variables[f\"x_{i + 1}_{j}\"] for i in range(15)]), \n",
    "        f\"Makespan-for-machine-{j}\",\n",
    "    )\n",
    "\n",
    "# exclusivity \n",
    "exclusivity = [(2, 5, 8), (6, 9), (7, 10), (11, 15)]\n",
    "for e in exclusivity:\n",
    "    for j in range(1, 4):\n",
    "        model_1 += (\n",
    "            lpSum([variables[f\"x_{ee}_{j}\"] for ee in e]) <= 1,\n",
    "            f\"jobs_{'_'.join((map(str, e)))}_not_on_machine_{j}\"\n",
    "        )\n",
    "\n",
    "status = model_1.solve(pl.PULP_CBC_CMD(msg=0))\n",
    "if status == 1:\n",
    "    print(model_1.objective.value())"
   ]
  },
  {
   "cell_type": "markdown",
   "id": "e74a01f8",
   "metadata": {},
   "source": [
    "## Problem 2"
   ]
  },
  {
   "cell_type": "code",
   "execution_count": 23,
   "id": "bc5ca9c1",
   "metadata": {
    "ExecuteTime": {
     "end_time": "2021-12-29T01:43:29.460168Z",
     "start_time": "2021-12-29T01:43:29.452926Z"
    }
   },
   "outputs": [],
   "source": [
    "distance = [\n",
    "    [0, 3, 4, 6, 8, 9, 8, 10],\n",
    "    [3, 0, 5, 4, 8, 6, 12, 9],\n",
    "    [4, 5, 0, 2, 2, 3, 5, 7],\n",
    "    [6, 4, 2, 0, 3, 2, 5, 4],\n",
    "    [8, 8, 2, 3, 0, 2, 2, 4],\n",
    "    [9, 6, 3, 2, 2, 0, 3, 2],\n",
    "    [8, 12, 5, 5, 2, 3, 0, 2],\n",
    "    [10, 9, 7, 4, 4, 2, 2, 0],\n",
    "]\n",
    "\n",
    "population = [40, 30, 35, 20, 15, 50, 45, 60]\n",
    "\n",
    "n = len(distance)\n",
    "m = 2\n",
    "\n",
    "# Model\n",
    "model_2 = LpProblem(name=\"quiz-2\", sense=pl.LpMinimize)\n",
    "\n",
    "# Decision variable\n",
    "variables = {f\"x_{i}\": LpVariable(name=f\"x_{i}\", cat=\"Binary\") for i in range(n)}\n",
    "\n",
    "# Constraints\n",
    "# m ambulances in total\n",
    "model_2 += (lpSum([variables[f\"x_{i}\"] for i in range(n)]) == m, f\"{m}-ambulances-in-total\")"
   ]
  },
  {
   "cell_type": "code",
   "execution_count": null,
   "id": "c710476e",
   "metadata": {},
   "outputs": [],
   "source": []
  }
 ],
 "metadata": {
  "kernelspec": {
   "display_name": "Python 3 (ipykernel)",
   "language": "python",
   "name": "python3"
  },
  "language_info": {
   "codemirror_mode": {
    "name": "ipython",
    "version": 3
   },
   "file_extension": ".py",
   "mimetype": "text/x-python",
   "name": "python",
   "nbconvert_exporter": "python",
   "pygments_lexer": "ipython3",
   "version": "3.7.11"
  },
  "toc": {
   "base_numbering": 1,
   "nav_menu": {},
   "number_sections": false,
   "sideBar": true,
   "skip_h1_title": false,
   "title_cell": "Table of Contents",
   "title_sidebar": "Contents",
   "toc_cell": true,
   "toc_position": {},
   "toc_section_display": true,
   "toc_window_display": true
  }
 },
 "nbformat": 4,
 "nbformat_minor": 5
}
