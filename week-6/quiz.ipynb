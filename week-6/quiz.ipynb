{
 "cells": [
  {
   "cell_type": "markdown",
   "id": "e72d0401",
   "metadata": {
    "toc": true
   },
   "source": [
    "<h1>Table of Contents<span class=\"tocSkip\"></span></h1>\n",
    "<div class=\"toc\"><ul class=\"toc-item\"><li><span><a href=\"#Problem-1\" data-toc-modified-id=\"Problem-1-1\">Problem 1</a></span></li><li><span><a href=\"#Problem-2\" data-toc-modified-id=\"Problem-2-2\">Problem 2</a></span></li><li><span><a href=\"#Problem-3\" data-toc-modified-id=\"Problem-3-3\">Problem 3</a></span></li></ul></div>"
   ]
  },
  {
   "cell_type": "code",
   "execution_count": 1,
   "id": "155fd1cc",
   "metadata": {
    "ExecuteTime": {
     "end_time": "2021-12-31T13:51:39.605138Z",
     "start_time": "2021-12-31T13:51:39.418608Z"
    }
   },
   "outputs": [],
   "source": [
    "from typing import List\n",
    "\n",
    "import numpy as np\n",
    "import pulp as pl\n",
    "\n",
    "from pulp import LpProblem\n",
    "from pulp import lpSum\n",
    "from pulp import LpVariable"
   ]
  },
  {
   "cell_type": "markdown",
   "id": "7c4a7eb4",
   "metadata": {},
   "source": [
    "## Problem 1"
   ]
  },
  {
   "cell_type": "code",
   "execution_count": 2,
   "id": "7b495a3b",
   "metadata": {
    "ExecuteTime": {
     "end_time": "2021-12-31T13:51:40.638050Z",
     "start_time": "2021-12-31T13:51:40.566192Z"
    }
   },
   "outputs": [
    {
     "name": "stdout",
     "output_type": "stream",
     "text": [
      "43.0\n"
     ]
    }
   ],
   "source": [
    "model_1 = LpProblem(name=\"problem-1\", sense=pl.LpMinimize)\n",
    "\n",
    "# Decision variables\n",
    "variables = {}\n",
    "for i in range(1, 16):\n",
    "    for j in range(1, 4):\n",
    "        # 1 if job i is on machine j\n",
    "        variables[f\"x_{i}_{j}\"] = LpVariable(name=f\"x_{i}_{j}\", cat=\"Binary\")\n",
    "z = LpVariable(name=\"max_makespan\", lowBound=0)\n",
    "\n",
    "# Objective function\n",
    "model_1 += z\n",
    "\n",
    "# Constraints\n",
    "# any job is only on one machine\n",
    "for i in range(1, 16):\n",
    "    model_1 += (\n",
    "        lpSum([variables[f\"x_{i}_{j}\"] for j in range(1, 4)]) == 1, \n",
    "        f\"job_{i}_on_one_machine\",\n",
    "    )\n",
    "\n",
    "# max makespan\n",
    "processing_times = [7, 4, 6, 9, 12, 8, 10, 11, 8, 7, 6, 8, 15, 14, 3]\n",
    "for j in range(1, 4):\n",
    "    model_1 += (\n",
    "        z >= lpSum([processing_times[i] * variables[f\"x_{i + 1}_{j}\"] for i in range(15)]), \n",
    "        f\"Makespan-for-machine-{j}\",\n",
    "    )\n",
    "\n",
    "# exclusivity \n",
    "exclusivity = [(2, 5, 8), (6, 9), (7, 10), (11, 15)]\n",
    "for e in exclusivity:\n",
    "    for j in range(1, 4):\n",
    "        model_1 += (\n",
    "            lpSum([variables[f\"x_{ee}_{j}\"] for ee in e]) <= 1,\n",
    "            f\"jobs_{'_'.join((map(str, e)))}_not_on_machine_{j}\"\n",
    "        )\n",
    "\n",
    "status = model_1.solve(pl.PULP_CBC_CMD(msg=0))\n",
    "if status == 1:\n",
    "    print(model_1.objective.value())"
   ]
  },
  {
   "cell_type": "markdown",
   "id": "3a939dc7",
   "metadata": {},
   "source": [
    "## Problem 2"
   ]
  },
  {
   "cell_type": "code",
   "execution_count": 3,
   "id": "62ae2c35",
   "metadata": {
    "ExecuteTime": {
     "end_time": "2021-12-31T13:51:41.457111Z",
     "start_time": "2021-12-31T13:51:41.370677Z"
    }
   },
   "outputs": [
    {
     "name": "stdout",
     "output_type": "stream",
     "text": [
      "100.0\n"
     ]
    }
   ],
   "source": [
    "distance = [\n",
    "    [0, 3, 4, 6, 8, 9, 8, 10],\n",
    "    [3, 0, 5, 4, 8, 6, 12, 9],\n",
    "    [4, 5, 0, 2, 2, 3, 5, 7],\n",
    "    [6, 4, 2, 0, 3, 2, 5, 4],\n",
    "    [8, 8, 2, 3, 0, 2, 2, 4],\n",
    "    [9, 6, 3, 2, 2, 0, 3, 2],\n",
    "    [8, 12, 5, 5, 2, 3, 0, 2],\n",
    "    [10, 9, 7, 4, 4, 2, 2, 0],\n",
    "]\n",
    "\n",
    "population = [40, 30, 35, 20, 15, 50, 45, 60]\n",
    "\n",
    "n = len(distance)\n",
    "m = 3\n",
    "\n",
    "# Model\n",
    "model_2 = LpProblem(name=\"quiz-2\", sense=pl.LpMinimize)\n",
    "\n",
    "# Decision variable\n",
    "# 1 if an ambulance is located in district i\n",
    "variables = {f\"x_{i}\": LpVariable(name=f\"x_{i}\", cat=\"Binary\") for i in range(n)}\n",
    "\n",
    "for i in range(n):\n",
    "    for j in range(n):\n",
    "        # 1 if for district i the closest ambulance is located in district j\n",
    "        variables[f\"y_{i}_{j}\"] = LpVariable(name=f\"y_{i}_{j}\", cat=\"Binary\")\n",
    "\n",
    "# helper variable for the min-max problem\n",
    "for i in range(n):\n",
    "    variables[f\"w_{i}\"] = LpVariable(name=f\"w_{i}\", lowBound=0)\n",
    "\n",
    "# Constraints\n",
    "# m ambulances in total\n",
    "model_2 += (lpSum([variables[f\"x_{i}\"] for i in range(n)]) == m, f\"{m}-ambulances-in-total\")\n",
    "\n",
    "# access to an ambulance if there is one\n",
    "for i in range(n):\n",
    "    for j in range(n):\n",
    "        model_2 += (\n",
    "            variables[f\"y_{i}_{j}\"] <= variables[f\"x_{j}\"], \n",
    "            f\"districut-{i}-can-access-ambulance-in-{j}\",\n",
    "        )\n",
    "\n",
    "# only one ambulance for the district i\n",
    "for i in range(n):\n",
    "    model_2 += (\n",
    "        lpSum([variables[f\"y_{i}_{j}\"] for j in range(n)]) == 1, \n",
    "        f\"one-ambulances-in-district-{i}\",\n",
    "    )\n",
    "    \n",
    "# maximum conditions\n",
    "z = LpVariable(name=\"z\", lowBound=0)\n",
    "for i in range(n):\n",
    "    model_2 += (\n",
    "        z >= population[i] * lpSum(\n",
    "            [distance[i][j] * variables[f\"y_{i}_{j}\"] for j in range(n)]), \n",
    "        f\"max-condition-for-districe-{i}\",\n",
    "    )\n",
    "\n",
    "# Objecitve function\n",
    "# model_2 += lpSum([variables[f\"w_{i}\"] for i in range(i)])\n",
    "model_2 += z\n",
    "\n",
    "status = model_2.solve(pl.PULP_CBC_CMD(msg=0))\n",
    "if status == 1:\n",
    "    print(model_2.objective.value())"
   ]
  },
  {
   "cell_type": "markdown",
   "id": "cd741ef6",
   "metadata": {},
   "source": [
    "## Problem 3"
   ]
  },
  {
   "cell_type": "code",
   "execution_count": 4,
   "id": "711a1c5d",
   "metadata": {
    "ExecuteTime": {
     "end_time": "2021-12-31T13:51:43.157495Z",
     "start_time": "2021-12-31T13:51:43.147015Z"
    }
   },
   "outputs": [
    {
     "name": "stdout",
     "output_type": "stream",
     "text": [
      "\n",
      "\n",
      "\n",
      "[inf, 240, 240, inf, 240, 135, 120, 100]\n"
     ]
    }
   ],
   "source": [
    "m = 3\n",
    "has_ambulances_districts = []\n",
    "\n",
    "def find_nearest_amulance(ambulance: List[int], district: int) -> int:\n",
    "    \"\"\"Finds the nearest ambulance (index) for the district.\"\"\"\n",
    "    smallest_distance = float(\"inf\")\n",
    "    nearest_ambulance = -1\n",
    "    for a in ambulance:\n",
    "        if distance[a][district] < smallest_distance:\n",
    "            smallest_distance = distance[a][district]\n",
    "            nearest_ambulance = a\n",
    "    return nearest_ambulance\n",
    "\n",
    "# simple unittest\n",
    "assert find_nearest_amulance(ambulance=[3, 0], district=0) == 0\n",
    "assert find_nearest_amulance(ambulance=[3, 0], district=3) == 3\n",
    "\n",
    "for _ in range(m):\n",
    "    print(\"\")\n",
    "    no_ambulances_districts = [x for x in range(n) if x not in has_ambulances_districts]\n",
    "    # try all possible solutions\n",
    "    max_weighted_times = [-1] * n\n",
    "    for i in has_ambulances_districts:\n",
    "        max_weighted_times[i] = float(\"inf\")\n",
    "    \n",
    "    for c in no_ambulances_districts:  # what if we put an ambulance at `c`\n",
    "        nearest_ambulances = []\n",
    "        # for each district without an ambulance, find the nearest ambulance\n",
    "        tmp_ambulances = has_ambulances_districts + [c] \n",
    "        for d in range(n):\n",
    "            nearest_ambulance = find_nearest_amulance(tmp_ambulances, d)\n",
    "            nearest_ambulances.append(nearest_ambulance)\n",
    "        \n",
    "        # find out the weighted times for all districts, and the min among them, \n",
    "        weighted_times = [population[x] * distance[nearest_ambulances[x]][x] for x in range(n)]\n",
    "        max_weighted_times[c] = max(weighted_times)\n",
    "    \n",
    "    # assign an ambulance\n",
    "    has_ambulances_districts.append(np.argmin(max_weighted_times))\n",
    "\n",
    "print(max_weighted_times)"
   ]
  }
 ],
 "metadata": {
  "kernelspec": {
   "display_name": "Python 3 (ipykernel)",
   "language": "python",
   "name": "python3"
  },
  "language_info": {
   "codemirror_mode": {
    "name": "ipython",
    "version": 3
   },
   "file_extension": ".py",
   "mimetype": "text/x-python",
   "name": "python",
   "nbconvert_exporter": "python",
   "pygments_lexer": "ipython3",
   "version": "3.7.11"
  },
  "toc": {
   "base_numbering": 1,
   "nav_menu": {},
   "number_sections": false,
   "sideBar": true,
   "skip_h1_title": false,
   "title_cell": "Table of Contents",
   "title_sidebar": "Contents",
   "toc_cell": true,
   "toc_position": {},
   "toc_section_display": true,
   "toc_window_display": true
  }
 },
 "nbformat": 4,
 "nbformat_minor": 5
}
