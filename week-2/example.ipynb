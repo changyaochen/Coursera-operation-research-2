{
 "cells": [
  {
   "cell_type": "code",
   "execution_count": 1,
   "id": "e496453a",
   "metadata": {},
   "outputs": [],
   "source": [
    "from gurobipy import GRB\n",
    "from gurobipy import Model"
   ]
  },
  {
   "cell_type": "code",
   "execution_count": 2,
   "id": "e9bf3306",
   "metadata": {},
   "outputs": [
    {
     "name": "stdout",
     "output_type": "stream",
     "text": [
      "Set parameter Username\n",
      "Academic license - for non-commercial use only - expires 2022-11-23\n",
      "Gurobi Optimizer version 9.5.0 build v9.5.0rc5 (mac64[x86])\n",
      "Thread count: 2 physical cores, 4 logical processors, using up to 4 threads\n",
      "Optimize a model with 3 rows, 2 columns and 6 nonzeros\n",
      "Model fingerprint: 0xfc16a329\n",
      "Coefficient statistics:\n",
      "  Matrix range     [1e+00, 5e+01]\n",
      "  Objective range  [7e+02, 9e+02]\n",
      "  Bounds range     [0e+00, 0e+00]\n",
      "  RHS range        [2e+03, 5e+04]\n",
      "Presolve time: 0.03s\n",
      "Presolved: 3 rows, 2 columns, 6 nonzeros\n",
      "\n",
      "Iteration    Objective       Primal Inf.    Dual Inf.      Time\n",
      "       0    2.0000000e+32   3.593750e+30   2.000000e+02      0s\n",
      "       3    7.8947368e+05   0.000000e+00   0.000000e+00      0s\n",
      "\n",
      "Solved in 3 iterations and 0.07 seconds (0.00 work units)\n",
      "Optimal objective  7.894736842e+05\n"
     ]
    }
   ],
   "source": [
    "eg1 = Model(name=\"eg-1\")\n",
    "\n",
    "x1 = eg1.addVar(lb=0, vtype=GRB.CONTINUOUS, name=\"x1\")\n",
    "x2 = eg1.addVar(lb=0, vtype=GRB.CONTINUOUS, name=\"x2\")\n",
    "\n",
    "eg1.setObjective(700 * x1 + 900 * x2, GRB.MAXIMIZE)\n",
    "eg1.addConstr(3 * x1 + 5 * x2 <= 3600, \"resource_wood\")\n",
    "eg1.addConstr(x1 + 2 * x2 <= 1600, \"resource_labor\")\n",
    "eg1.addConstr(50 * x1 + 20 * x2 <= 48000, \"resource_machine\")\n",
    "eg1.optimize()"
   ]
  },
  {
   "cell_type": "code",
   "execution_count": null,
   "id": "6d7a1474",
   "metadata": {},
   "outputs": [],
   "source": []
  }
 ],
 "metadata": {
  "kernelspec": {
   "display_name": "Python 3 (ipykernel)",
   "language": "python",
   "name": "python3"
  },
  "language_info": {
   "codemirror_mode": {
    "name": "ipython",
    "version": 3
   },
   "file_extension": ".py",
   "mimetype": "text/x-python",
   "name": "python",
   "nbconvert_exporter": "python",
   "pygments_lexer": "ipython3",
   "version": "3.7.11"
  }
 },
 "nbformat": 4,
 "nbformat_minor": 5
}
